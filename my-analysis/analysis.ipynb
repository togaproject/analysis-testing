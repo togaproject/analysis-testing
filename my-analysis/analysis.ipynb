{
 "cells": [
  {
   "cell_type": "code",
   "execution_count": 28,
   "metadata": {},
   "outputs": [],
   "source": [
    "import pandas as pd"
   ]
  },
  {
   "cell_type": "code",
   "execution_count": 34,
   "metadata": {},
   "outputs": [
    {
     "name": "stdout",
     "output_type": "stream",
     "text": [
      "Index(['Unnamed: 0', 'STUDYID', 'SITEID', 'USUBJID', 'AGE', 'AGEGR1',\n",
      "       'AGEGR1N', 'RACE', 'RACEN', 'SEX', 'SAFFL', 'TRTSDT', 'TRTEDT', 'TRTP',\n",
      "       'TRTPN', 'TRTA', 'TRTAN', 'PARAMCD', 'PARAM', 'PARAMN', 'ADT', 'ADY',\n",
      "       'ATPTN', 'ATPT', 'AVISIT', 'AVISITN', 'AVAL', 'BASE', 'CHG', 'PCHG',\n",
      "       'VISITNUM', 'VISIT', 'VSSEQ', 'ANL01FL', 'ABLFL', 'ANRLO', 'ANRHI',\n",
      "       'BNRIND', 'ANRIND', 'SHIFT1', 'CRIT1', 'CRIT1FL', 'CRIT2', 'CRIT2FL',\n",
      "       'CHGCAT1'],\n",
      "      dtype='object')\n"
     ]
    }
   ],
   "source": [
    "advs = pd.read_csv('adam_csv/advs.csv')\n",
    "print(advs.columns)"
   ]
  },
  {
   "cell_type": "code",
   "execution_count": 35,
   "metadata": {},
   "outputs": [
    {
     "name": "stdout",
     "output_type": "stream",
     "text": [
      "adlbh.csv\n",
      "advs.csv\n",
      "adtte.csv\n",
      "adpp.csv\n",
      "advsmin.csv\n",
      "adpc.csv\n",
      "adsl.csv\n",
      "adlbhy.csv\n",
      "adqsadas.csv\n",
      "adlbc.csv\n",
      "adcm.csv\n",
      "adae.csv\n",
      "advsmax.csv\n",
      "adqscibc.csv\n",
      "adqsnpix.csv\n"
     ]
    }
   ],
   "source": [
    "import os\n",
    "\n",
    "# print the filename of all csv files in the adam_csv folder\n",
    "for filename in os.listdir('adam_csv'):\n",
    "    if filename.endswith('.csv'):\n",
    "        print(filename)"
   ]
  },
  {
   "cell_type": "code",
   "execution_count": 44,
   "metadata": {},
   "outputs": [
    {
     "data": {
      "text/plain": [
       "Index(['Unnamed: 0', 'STUDYID', 'SITEID', 'SITEGR1', 'USUBJID', 'TRTSDT',\n",
       "       'TRTEDT', 'TRTP', 'TRTPN', 'AGE', 'AGEGR1', 'AGEGR1N', 'RACE', 'RACEN',\n",
       "       'SEX', 'ITTFL', 'EFFFL', 'COMP24FL', 'AVISIT', 'AVISITN', 'VISIT',\n",
       "       'VISITNUM', 'ADY', 'ADT', 'PARAM', 'PARAMCD', 'PARAMN', 'AVAL', 'BASE',\n",
       "       'CHG', 'PCHG', 'ABLFL', 'ANL01FL', 'DTYPE', 'AWRANGE', 'AWTARGET',\n",
       "       'AWTDIFF', 'AWLO', 'AWHI', 'AWU', 'QSSEQ'],\n",
       "      dtype='object')"
      ]
     },
     "execution_count": 44,
     "metadata": {},
     "output_type": "execute_result"
    }
   ],
   "source": [
    "import pandas as pd\n",
    "\n",
    "df = pd.read_csv('adam_csv/adqsadas.csv')\n",
    "df.columns\n"
   ]
  },
  {
   "cell_type": "code",
   "execution_count": 55,
   "metadata": {},
   "outputs": [
    {
     "data": {
      "text/plain": [
       "dict_keys(['Study', '_xmlns', '_xmlns:xsi', '_xmlns:xlink', '_xmlns:def', '_xmlns:adamref', '_xsi:schemaLocation', '_FileOID', '_ODMVersion', '_FileType', '_CreationDateTime'])"
      ]
     },
     "execution_count": 55,
     "metadata": {},
     "output_type": "execute_result"
    }
   ],
   "source": [
    "# read data from define.json\n",
    "import json\n",
    "data = {}\n",
    "\n",
    "with open('define.json') as f:\n",
    "    data = json.load(f)\n",
    "\n",
    "data = data['ODM']\n",
    "\n",
    "data.keys()"
   ]
  },
  {
   "cell_type": "code",
   "execution_count": 66,
   "metadata": {},
   "outputs": [],
   "source": [
    "study = data['Study']\n",
    "valuelistdef = study['MetaDataVersion']['ValueListDef']"
   ]
  },
  {
   "cell_type": "code",
   "execution_count": 69,
   "metadata": {},
   "outputs": [
    {
     "name": "stdout",
     "output_type": "stream",
     "text": [
      "{'ItemRef': [{'_ItemOID': 'ADLBC.A1HI.ALB', '_OrderNumber': '1', '_Mandatory': 'No'}, {'_ItemOID': 'ADLBC.A1HI.ALP', '_OrderNumber': '2', '_Mandatory': 'No'}, {'_ItemOID': 'ADLBC.A1HI.ALT', '_OrderNumber': '3', '_Mandatory': 'No'}, {'_ItemOID': 'ADLBC.A1HI.AST', '_OrderNumber': '4', '_Mandatory': 'No'}, {'_ItemOID': 'ADLBC.A1HI.BILI', '_OrderNumber': '5', '_Mandatory': 'No'}, {'_ItemOID': 'ADLBC.A1HI.BUN', '_OrderNumber': '6', '_Mandatory': 'No'}, {'_ItemOID': 'ADLBC.A1HI.CA', '_OrderNumber': '7', '_Mandatory': 'No'}, {'_ItemOID': 'ADLBC.A1HI.CHOL', '_OrderNumber': '8', '_Mandatory': 'No'}, {'_ItemOID': 'ADLBC.A1HI.CK', '_OrderNumber': '9', '_Mandatory': 'No'}, {'_ItemOID': 'ADLBC.A1HI.CL', '_OrderNumber': '10', '_Mandatory': 'No'}, {'_ItemOID': 'ADLBC.A1HI.CREAT', '_OrderNumber': '11', '_Mandatory': 'No'}, {'_ItemOID': 'ADLBC.A1HI.GGT', '_OrderNumber': '12', '_Mandatory': 'No'}, {'_ItemOID': 'ADLBC.A1HI.GLUC', '_OrderNumber': '13', '_Mandatory': 'No'}, {'_ItemOID': 'ADLBC.A1HI.K', '_OrderNumber': '14', '_Mandatory': 'No'}, {'_ItemOID': 'ADLBC.A1HI.PHOS', '_OrderNumber': '15', '_Mandatory': 'No'}, {'_ItemOID': 'ADLBC.A1HI.PROT', '_OrderNumber': '16', '_Mandatory': 'No'}, {'_ItemOID': 'ADLBC.A1HI.SODIUM', '_OrderNumber': '17', '_Mandatory': 'No'}, {'_ItemOID': 'ADLBC.A1HI.URATE', '_OrderNumber': '18', '_Mandatory': 'No'}, {'_ItemOID': 'ADLBC.A1HI._ALB', '_OrderNumber': '19', '_Mandatory': 'No'}, {'_ItemOID': 'ADLBC.A1HI._ALP', '_OrderNumber': '20', '_Mandatory': 'No'}, {'_ItemOID': 'ADLBC.A1HI._ALT', '_OrderNumber': '21', '_Mandatory': 'No'}, {'_ItemOID': 'ADLBC.A1HI._AST', '_OrderNumber': '22', '_Mandatory': 'No'}, {'_ItemOID': 'ADLBC.A1HI._BILI', '_OrderNumber': '23', '_Mandatory': 'No'}, {'_ItemOID': 'ADLBC.A1HI._BUN', '_OrderNumber': '24', '_Mandatory': 'No'}, {'_ItemOID': 'ADLBC.A1HI._CA', '_OrderNumber': '25', '_Mandatory': 'No'}, {'_ItemOID': 'ADLBC.A1HI._CHOL', '_OrderNumber': '26', '_Mandatory': 'No'}, {'_ItemOID': 'ADLBC.A1HI._CK', '_OrderNumber': '27', '_Mandatory': 'No'}, {'_ItemOID': 'ADLBC.A1HI._CL', '_OrderNumber': '28', '_Mandatory': 'No'}, {'_ItemOID': 'ADLBC.A1HI._CREAT', '_OrderNumber': '29', '_Mandatory': 'No'}, {'_ItemOID': 'ADLBC.A1HI._GGT', '_OrderNumber': '30', '_Mandatory': 'No'}, {'_ItemOID': 'ADLBC.A1HI._GLUC', '_OrderNumber': '31', '_Mandatory': 'No'}, {'_ItemOID': 'ADLBC.A1HI._K', '_OrderNumber': '32', '_Mandatory': 'No'}, {'_ItemOID': 'ADLBC.A1HI._PHOS', '_OrderNumber': '33', '_Mandatory': 'No'}, {'_ItemOID': 'ADLBC.A1HI._PROT', '_OrderNumber': '34', '_Mandatory': 'No'}, {'_ItemOID': 'ADLBC.A1HI._SODIUM', '_OrderNumber': '35', '_Mandatory': 'No'}, {'_ItemOID': 'ADLBC.A1HI._URATE', '_OrderNumber': '36', '_Mandatory': 'No'}], '_OID': 'ValueList.ADLBC.A1HI', '__prefix': 'def'}\n"
     ]
    },
    {
     "ename": "KeyError",
     "evalue": "0",
     "output_type": "error",
     "traceback": [
      "\u001b[0;31m---------------------------------------------------------------------------\u001b[0m",
      "\u001b[0;31mKeyError\u001b[0m                                  Traceback (most recent call last)",
      "\u001b[0;32m<ipython-input-69-af297f13e9fc>\u001b[0m in \u001b[0;36m<module>\u001b[0;34m\u001b[0m\n\u001b[1;32m      2\u001b[0m \u001b[0;32mfor\u001b[0m \u001b[0mitemref\u001b[0m \u001b[0;32min\u001b[0m \u001b[0mvaluelistdef\u001b[0m\u001b[0;34m:\u001b[0m\u001b[0;34m\u001b[0m\u001b[0;34m\u001b[0m\u001b[0m\n\u001b[1;32m      3\u001b[0m     \u001b[0mprint\u001b[0m\u001b[0;34m(\u001b[0m\u001b[0mitemref\u001b[0m\u001b[0;34m)\u001b[0m\u001b[0;34m\u001b[0m\u001b[0;34m\u001b[0m\u001b[0m\n\u001b[0;32m----> 4\u001b[0;31m     \u001b[0moid\u001b[0m \u001b[0;34m=\u001b[0m \u001b[0mitemref\u001b[0m\u001b[0;34m[\u001b[0m\u001b[0;36m0\u001b[0m\u001b[0;34m]\u001b[0m\u001b[0;34m[\u001b[0m\u001b[0;34m'_ItemOID'\u001b[0m\u001b[0;34m]\u001b[0m\u001b[0;34m\u001b[0m\u001b[0;34m\u001b[0m\u001b[0m\n\u001b[0m\u001b[1;32m      5\u001b[0m     \u001b[0moids\u001b[0m\u001b[0;34m.\u001b[0m\u001b[0mappend\u001b[0m\u001b[0;34m(\u001b[0m\u001b[0moid\u001b[0m\u001b[0;34m)\u001b[0m\u001b[0;34m\u001b[0m\u001b[0;34m\u001b[0m\u001b[0m\n\u001b[1;32m      6\u001b[0m \u001b[0mprint\u001b[0m\u001b[0;34m(\u001b[0m\u001b[0moids\u001b[0m\u001b[0;34m)\u001b[0m\u001b[0;34m\u001b[0m\u001b[0;34m\u001b[0m\u001b[0m\n",
      "\u001b[0;31mKeyError\u001b[0m: 0"
     ]
    }
   ],
   "source": [
    "oids = []\n",
    "for itemref in valuelistdef:\n",
    "    print(itemref)\n",
    "    oid = itemref[0]['_ItemOID']\n",
    "    oids.append(oid)\n",
    "print(oids)"
   ]
  },
  {
   "cell_type": "code",
   "execution_count": null,
   "metadata": {},
   "outputs": [],
   "source": []
  }
 ],
 "metadata": {
  "language_info": {
   "name": "python"
  },
  "orig_nbformat": 4
 },
 "nbformat": 4,
 "nbformat_minor": 2
}
