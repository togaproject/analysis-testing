{
  "cells": [
    {
      "cell_type": "code",
      "execution_count": 1,
      "metadata": {
        "colab": {
          "base_uri": "https://localhost:8080/"
        },
        "id": "5BXQaK3yZJ7e",
        "outputId": "d8e4bb2a-ca24-44b3-dbef-09daf7867414"
      },
      "outputs": [
        {
          "name": "stdout",
          "output_type": "stream",
          "text": [
            "Collecting xport\n",
            "  Downloading xport-3.6.1-py2.py3-none-any.whl (29 kB)\n",
            "Requirement already satisfied: pyyaml in /opt/anaconda3/lib/python3.8/site-packages (from xport) (5.3.1)\n",
            "Collecting pandas<1.4,>=1.3.5\n",
            "  Downloading pandas-1.3.5-cp38-cp38-macosx_10_9_x86_64.whl (11.2 MB)\n",
            "\u001b[K     |████████████████████████████████| 11.2 MB 6.8 MB/s eta 0:00:01█████████████████████▊     | 9.3 MB 6.8 MB/s eta 0:00:01\n",
            "\u001b[?25hRequirement already satisfied: click>=7.1.1 in /opt/anaconda3/lib/python3.8/site-packages (from xport) (7.1.2)\n",
            "Requirement already satisfied: python-dateutil>=2.7.3 in /opt/anaconda3/lib/python3.8/site-packages (from pandas<1.4,>=1.3.5->xport) (2.8.1)\n",
            "Requirement already satisfied: numpy>=1.17.3; platform_machine != \"aarch64\" and platform_machine != \"arm64\" and python_version < \"3.10\" in /opt/anaconda3/lib/python3.8/site-packages (from pandas<1.4,>=1.3.5->xport) (1.22.3)\n",
            "Requirement already satisfied: pytz>=2017.3 in /opt/anaconda3/lib/python3.8/site-packages (from pandas<1.4,>=1.3.5->xport) (2020.1)\n",
            "Requirement already satisfied: six>=1.5 in /opt/anaconda3/lib/python3.8/site-packages (from python-dateutil>=2.7.3->pandas<1.4,>=1.3.5->xport) (1.15.0)\n",
            "Installing collected packages: pandas, xport\n",
            "  Attempting uninstall: pandas\n",
            "    Found existing installation: pandas 1.0.5\n",
            "    Uninstalling pandas-1.0.5:\n",
            "      Successfully uninstalled pandas-1.0.5\n",
            "Successfully installed pandas-1.3.5 xport-3.6.1\n"
          ]
        }
      ],
      "source": [
        "!pip install xport"
      ]
    },
    {
      "cell_type": "code",
      "execution_count": 2,
      "metadata": {
        "id": "VmIJxh3GZNo9"
      },
      "outputs": [],
      "source": [
        "import xport, csv\n",
        "import os\n",
        "import pandas as pd"
      ]
    },
    {
      "cell_type": "code",
      "execution_count": 25,
      "metadata": {
        "id": "hNjp10cCarA_"
      },
      "outputs": [],
      "source": [
        "# Function to convert an .xpt file to .csv format\n",
        "def xpt_to_csv(filepath, save_dir):\n",
        "    with open(filepath, 'rb') as f:\n",
        "        df = xport.to_dataframe(f)\n",
        "    # print (df.columns.values)\n",
        "    name = os.path.basename(filepath).split('.')[0]\n",
        "    print(name)\n",
        "    df.to_csv('adam_csv/' + name + '.csv')"
      ]
    },
    {
      "cell_type": "code",
      "execution_count": 26,
      "metadata": {
        "id": "84WdInL4ach9"
      },
      "outputs": [],
      "source": [
        "data_dir = '../data/adam/cdisc/'"
      ]
    },
    {
      "cell_type": "code",
      "execution_count": 27,
      "metadata": {},
      "outputs": [
        {
          "name": "stdout",
          "output_type": "stream",
          "text": [
            "adqsnpix\n",
            "adqscibc\n",
            "advsmax\n",
            "adlbc\n",
            "adcm\n",
            "adae\n",
            "adqsadas\n",
            "adlbhy\n",
            "advsmin\n",
            "adpc\n",
            "adsl\n",
            "adtte\n",
            "adpp\n"
          ]
        }
      ],
      "source": [
        "for filename in os.listdir(data_dir):\n",
        "    if filename.endswith('.xpt'):\n",
        "        xpt_to_csv(data_dir + filename, data_dir)"
      ]
    },
    {
      "cell_type": "code",
      "execution_count": null,
      "metadata": {},
      "outputs": [],
      "source": []
    }
  ],
  "metadata": {
    "colab": {
      "provenance": []
    },
    "kernelspec": {
      "display_name": "Python 3",
      "language": "python",
      "name": "python3"
    },
    "language_info": {
      "codemirror_mode": {
        "name": "ipython",
        "version": 3
      },
      "file_extension": ".py",
      "mimetype": "text/x-python",
      "name": "python",
      "nbconvert_exporter": "python",
      "pygments_lexer": "ipython3",
      "version": "3.8.3 (default, Jul  2 2020, 11:26:31) \n[Clang 10.0.0 ]"
    },
    "vscode": {
      "interpreter": {
        "hash": "40d3a090f54c6569ab1632332b64b2c03c39dcf918b08424e98f38b5ae0af88f"
      }
    }
  },
  "nbformat": 4,
  "nbformat_minor": 0
}
